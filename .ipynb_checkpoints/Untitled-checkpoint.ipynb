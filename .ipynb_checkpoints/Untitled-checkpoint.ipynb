{
 "cells": [
  {
   "cell_type": "code",
   "execution_count": 7,
   "metadata": {
    "collapsed": true
   },
   "outputs": [],
   "source": [
    "import pandas as pd"
   ]
  },
  {
   "cell_type": "markdown",
   "metadata": {},
   "source": [
    "### Calculate Averages"
   ]
  },
  {
   "cell_type": "markdown",
   "metadata": {},
   "source": [
    "load and print original df"
   ]
  },
  {
   "cell_type": "code",
   "execution_count": 1,
   "metadata": {
    "collapsed": false
   },
   "outputs": [
    {
     "name": "stdout",
     "output_type": "stream",
     "text": [
      "    ﻿name  Schindlers List  KungFu Panda  Homeland  Trolls  Willy Wonka  \\\n",
      "0    Beth              4.0           4.0       5.0     NaN            5   \n",
      "1  Rachel              4.0           NaN       NaN     3.0            5   \n",
      "2   Asher              NaN           5.0       NaN     5.0            4   \n",
      "3  Robert              5.0           NaN       4.0     NaN            5   \n",
      "4   Peggy              5.0           3.0       5.0     NaN            4   \n",
      "\n",
      "   Universal Soldier  \n",
      "0                NaN  \n",
      "1                NaN  \n",
      "2                NaN  \n",
      "3                NaN  \n",
      "4                NaN  \n"
     ]
    }
   ],
   "source": [
    "df = pd.read_csv('C:/Users/maxim/Documents/GitHub/IS362_Week7/movies.csv')\n",
    "print(df)\n"
   ]
  },
  {
   "cell_type": "markdown",
   "metadata": {},
   "source": [
    "To get the average user rating, I create a new calculated column called 'avg_user' using dataframe.mean. I make sure to skip NaN"
   ]
  },
  {
   "cell_type": "code",
   "execution_count": 3,
   "metadata": {
    "collapsed": false
   },
   "outputs": [
    {
     "name": "stdout",
     "output_type": "stream",
     "text": [
      "    ﻿name  Schindlers List  KungFu Panda  Homeland  Trolls  Willy Wonka  \\\n",
      "0    Beth              4.0           4.0       5.0     NaN            5   \n",
      "1  Rachel              4.0           NaN       NaN     3.0            5   \n",
      "2   Asher              NaN           5.0       NaN     5.0            4   \n",
      "3  Robert              5.0           NaN       4.0     NaN            5   \n",
      "4   Peggy              5.0           3.0       5.0     NaN            4   \n",
      "\n",
      "   Universal Soldier  avg_user  \n",
      "0                NaN  4.500000  \n",
      "1                NaN  4.000000  \n",
      "2                NaN  4.666667  \n",
      "3                NaN  4.666667  \n",
      "4                NaN  4.250000  \n"
     ]
    }
   ],
   "source": [
    "df['avg_user'] = df.mean(axis=1, skipna=True)\n",
    "print(df)"
   ]
  },
  {
   "cell_type": "markdown",
   "metadata": {},
   "source": [
    "to get average per movie. I create a dict calculating the mean."
   ]
  },
  {
   "cell_type": "code",
   "execution_count": 4,
   "metadata": {
    "collapsed": true
   },
   "outputs": [],
   "source": [
    "dict = {'avg_movie': df.loc[0:4].mean()}"
   ]
  },
  {
   "cell_type": "markdown",
   "metadata": {},
   "source": [
    "laod the values into a new dataframe"
   ]
  },
  {
   "cell_type": "code",
   "execution_count": 5,
   "metadata": {
    "collapsed": true
   },
   "outputs": [],
   "source": [
    "df2 = pd.DataFrame.from_dict(dict, orient='index')"
   ]
  },
  {
   "cell_type": "markdown",
   "metadata": {},
   "source": [
    "append new df to original df. print for verification"
   ]
  },
  {
   "cell_type": "code",
   "execution_count": 6,
   "metadata": {
    "collapsed": false
   },
   "outputs": [
    {
     "name": "stdout",
     "output_type": "stream",
     "text": [
      "           Homeland  KungFu Panda  Schindlers List  Trolls  Universal Soldier  \\\n",
      "0          5.000000           4.0              4.0     NaN                NaN   \n",
      "1               NaN           NaN              4.0     3.0                NaN   \n",
      "2               NaN           5.0              NaN     5.0                NaN   \n",
      "3          4.000000           NaN              5.0     NaN                NaN   \n",
      "4          5.000000           3.0              5.0     NaN                NaN   \n",
      "avg_movie  4.666667           4.0              4.5     4.0                NaN   \n",
      "\n",
      "           Willy Wonka  avg_user   ﻿name  \n",
      "0                  5.0  4.500000    Beth  \n",
      "1                  5.0  4.000000  Rachel  \n",
      "2                  4.0  4.666667   Asher  \n",
      "3                  5.0  4.666667  Robert  \n",
      "4                  4.0  4.250000   Peggy  \n",
      "avg_movie          4.6  4.416667     NaN  \n"
     ]
    }
   ],
   "source": [
    "df3 = df.append(df2)\n",
    "print(df3)"
   ]
  },
  {
   "cell_type": "markdown",
   "metadata": {},
   "source": [
    "If I am reading it correctly, the average movie by users is 4.41667"
   ]
  },
  {
   "cell_type": "markdown",
   "metadata": {},
   "source": [
    "### Normalized version"
   ]
  },
  {
   "cell_type": "markdown",
   "metadata": {},
   "source": [
    "using formula for normalization create df with normlaized scores."
   ]
  },
  {
   "cell_type": "code",
   "execution_count": 8,
   "metadata": {
    "collapsed": false
   },
   "outputs": [
    {
     "name": "stdout",
     "output_type": "stream",
     "text": [
      "   Homeland  KungFu Panda  Schindlers List  Trolls  Universal Soldier  \\\n",
      "0  0.333333           0.0             -0.5     NaN                NaN   \n",
      "1       NaN           NaN             -0.5    -0.5                NaN   \n",
      "2       NaN           0.5              NaN     0.5                NaN   \n",
      "3 -0.666667           NaN              0.5     NaN                NaN   \n",
      "4  0.333333          -0.5              0.5     NaN                NaN   \n",
      "\n",
      "   Willy Wonka ﻿name  \n",
      "0          0.4   NaN  \n",
      "1          0.4   NaN  \n",
      "2         -0.6   NaN  \n",
      "3          0.4   NaN  \n",
      "4         -0.6   NaN  \n"
     ]
    },
    {
     "name": "stderr",
     "output_type": "stream",
     "text": [
      "C:\\Program Files\\Anaconda3\\lib\\site-packages\\pandas\\core\\ops.py:995: VisibleDeprecationWarning: boolean index did not match indexed array along dimension 0; dimension is 1 but corresponding boolean dimension is 5\n",
      "  yrav = yrav[mask]\n"
     ]
    }
   ],
   "source": [
    "dfs = pd.read_csv('C:/Users/maxim/Documents/GitHub/IS362_Week7/movies.csv')\n",
    "df_norm = (dfs - dfs.mean(skipna=True, numeric_only=True)) / (dfs.max(skipna=True, numeric_only=True) - dfs.min(skipna=True, numeric_only=True))\n",
    "print(df_norm)"
   ]
  },
  {
   "cell_type": "markdown",
   "metadata": {},
   "source": [
    "I have not been able to resolve the waring. but it does not appear to be affecting the data."
   ]
  },
  {
   "cell_type": "markdown",
   "metadata": {},
   "source": [
    "To get the averages I perform the same steps as the first exercise."
   ]
  },
  {
   "cell_type": "code",
   "execution_count": 9,
   "metadata": {
    "collapsed": false
   },
   "outputs": [
    {
     "name": "stdout",
     "output_type": "stream",
     "text": [
      "               Homeland  KungFu Panda  Schindlers List  Trolls  \\\n",
      "0          3.333333e-01           0.0             -0.5     NaN   \n",
      "1                   NaN           NaN             -0.5    -0.5   \n",
      "2                   NaN           0.5              NaN     0.5   \n",
      "3         -6.666667e-01           NaN              0.5     NaN   \n",
      "4          3.333333e-01          -0.5              0.5     NaN   \n",
      "avg_movie -2.960595e-16           0.0              0.0     0.0   \n",
      "\n",
      "           Universal Soldier   Willy Wonka ﻿name  avg_user  \n",
      "0                        NaN  4.000000e-01   NaN  0.058333  \n",
      "1                        NaN  4.000000e-01   NaN -0.200000  \n",
      "2                        NaN -6.000000e-01   NaN  0.133333  \n",
      "3                        NaN  4.000000e-01   NaN  0.077778  \n",
      "4                        NaN -6.000000e-01   NaN -0.066667  \n",
      "avg_movie                NaN  3.552714e-16   NaN  0.000556  \n"
     ]
    }
   ],
   "source": [
    "df_norm['avg_user'] = df_norm.mean(axis=1, skipna=True)\n",
    "dict2 = {'avg_movie': df_norm.loc[0:4].mean()}\n",
    "df_new = pd.DataFrame.from_dict(dict2, orient='index')\n",
    "df_mod = df_norm.append(df_new)\n",
    "print(df_mod)"
   ]
  },
  {
   "cell_type": "markdown",
   "metadata": {},
   "source": [
    "I prefer actual values to the normalized version. The average values in the first exercise are easily understood by humans. Normalized values are probably more useful for additional calculations and processing downstream."
   ]
  },
  {
   "cell_type": "code",
   "execution_count": null,
   "metadata": {
    "collapsed": true
   },
   "outputs": [],
   "source": []
  }
 ],
 "metadata": {
  "anaconda-cloud": {},
  "kernelspec": {
   "display_name": "Python [default]",
   "language": "python",
   "name": "python3"
  },
  "language_info": {
   "codemirror_mode": {
    "name": "ipython",
    "version": 3
   },
   "file_extension": ".py",
   "mimetype": "text/x-python",
   "name": "python",
   "nbconvert_exporter": "python",
   "pygments_lexer": "ipython3",
   "version": "3.5.2"
  }
 },
 "nbformat": 4,
 "nbformat_minor": 1
}
